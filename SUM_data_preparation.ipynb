{
 "cells": [
  {
   "cell_type": "code",
   "execution_count": 1,
   "metadata": {},
   "outputs": [],
   "source": [
    "import numpy as np\n",
    "import pandas as pd\n",
    "\n",
    "import pickle"
   ]
  },
  {
   "cell_type": "code",
   "execution_count": 2,
   "metadata": {},
   "outputs": [],
   "source": [
    "hfreq_threshold, lfreq_threshold = 300, 10"
   ]
  },
  {
   "cell_type": "code",
   "execution_count": 3,
   "metadata": {},
   "outputs": [],
   "source": [
    "data = pd.read_csv('rusfreq/freqrnc2011.csv', sep = '\\t')"
   ]
  },
  {
   "cell_type": "code",
   "execution_count": 4,
   "metadata": {},
   "outputs": [],
   "source": [
    "hfreq = data[data['Freq(ipm)'] > hfreq_threshold]\n",
    "mfreq = data[(data['Freq(ipm)'] >= lfreq_threshold) & (data['Freq(ipm)'] <= hfreq_threshold)]\n",
    "lfreq = data[data['Freq(ipm)'] < lfreq_threshold]"
   ]
  },
  {
   "cell_type": "code",
   "execution_count": 5,
   "metadata": {},
   "outputs": [
    {
     "name": "stdout",
     "output_type": "stream",
     "text": [
      "340 8421 43377\n"
     ]
    }
   ],
   "source": [
    "print(hfreq.shape[0], mfreq.shape[0], lfreq.shape[0])"
   ]
  },
  {
   "cell_type": "code",
   "execution_count": 6,
   "metadata": {},
   "outputs": [],
   "source": [
    "hfreq_words = set(hfreq['Lemma'])\n",
    "mfreq_words = set(mfreq['Lemma'])\n",
    "lfreq_words = set(lfreq['Lemma'])"
   ]
  },
  {
   "cell_type": "code",
   "execution_count": 7,
   "metadata": {},
   "outputs": [
    {
     "name": "stdout",
     "output_type": "stream",
     "text": [
      "331 8361 43208\n"
     ]
    }
   ],
   "source": [
    "print(len(hfreq_words), len(mfreq_words), len(lfreq_words))"
   ]
  },
  {
   "cell_type": "code",
   "execution_count": 8,
   "metadata": {},
   "outputs": [
    {
     "name": "stdout",
     "output_type": "stream",
     "text": [
      "30 27 115\n"
     ]
    }
   ],
   "source": [
    "print(len(hfreq_words.intersection(mfreq_words)), len(hfreq_words.intersection(lfreq_words)), len(mfreq_words.intersection(lfreq_words)))"
   ]
  },
  {
   "cell_type": "code",
   "execution_count": 9,
   "metadata": {},
   "outputs": [],
   "source": [
    "uhfreq = hfreq_words - mfreq_words - lfreq_words\n",
    "umfreq = mfreq_words - lfreq_words - hfreq_words\n",
    "ulfreq = lfreq_words - hfreq_words - mfreq_words"
   ]
  },
  {
   "cell_type": "code",
   "execution_count": 10,
   "metadata": {},
   "outputs": [],
   "source": [
    "with open('rus/freq/high_freq.pkl', 'wb') as f:\n",
    "    pickle.dump(file=f, obj=uhfreq)\n",
    "    \n",
    "with open('rus/freq/medium_freq.pkl', 'wb') as f:\n",
    "    pickle.dump(file=f, obj=umfreq)\n",
    "    \n",
    "with open('rus/freq/low_freq.pkl', 'wb') as f:\n",
    "    pickle.dump(file=f, obj=ulfreq)"
   ]
  },
  {
   "cell_type": "code",
   "execution_count": 11,
   "metadata": {},
   "outputs": [],
   "source": [
    "with open('rus/freq/high_freq.pkl', 'rb') as f:\n",
    "    uhfreq = pickle.load(file=f)\n",
    "    \n",
    "with open('rus/freq/medium_freq.pkl', 'rb') as f:\n",
    "    umfreq = pickle.load(file=f)\n",
    "    \n",
    "with open('rus/freq/low_freq.pkl', 'rb') as f:\n",
    "    ulfreq = pickle.load(file=f)"
   ]
  },
  {
   "cell_type": "code",
   "execution_count": 12,
   "metadata": {},
   "outputs": [
    {
     "name": "stderr",
     "output_type": "stream",
     "text": [
      "paramiko missing, opening SSH/SCP/SFTP paths will be disabled.  `pip install paramiko` to suppress\n"
     ]
    }
   ],
   "source": [
    "import gensim\n",
    "\n",
    "from gensim.models import word2vec\n",
    "from gensim.models import KeyedVectors"
   ]
  },
  {
   "cell_type": "code",
   "execution_count": 13,
   "metadata": {},
   "outputs": [],
   "source": [
    "ozh = pd.read_csv('OZHEGOV.TXT', sep='|', encoding='cp1251')"
   ]
  },
  {
   "cell_type": "code",
   "execution_count": 14,
   "metadata": {},
   "outputs": [
    {
     "name": "stdout",
     "output_type": "stream",
     "text": [
      "38955\n"
     ]
    }
   ],
   "source": [
    "vocab = set(ozh['VOCAB'])\n",
    "print(len(vocab))"
   ]
  },
  {
   "cell_type": "code",
   "execution_count": 15,
   "metadata": {},
   "outputs": [],
   "source": [
    "w2v = gensim.models.KeyedVectors.load_word2vec_format('w2v_models/all_norm-sz500-w10-cb0-it3-min5.w2v', binary=True, unicode_errors='ignore')"
   ]
  },
  {
   "cell_type": "code",
   "execution_count": 16,
   "metadata": {},
   "outputs": [
    {
     "name": "stdout",
     "output_type": "stream",
     "text": [
      "37746 1209\n"
     ]
    }
   ],
   "source": [
    "train_words, test_words = [], []\n",
    "\n",
    "for word in vocab:\n",
    "    try:\n",
    "        emb = w2v.get_vector(word)\n",
    "        train_words.append(word)\n",
    "    except KeyError:\n",
    "        test_words.append(word)\n",
    "        \n",
    "print(len(train_words), len(test_words))"
   ]
  },
  {
   "cell_type": "code",
   "execution_count": 17,
   "metadata": {},
   "outputs": [
    {
     "name": "stdout",
     "output_type": "stream",
     "text": [
      "CPU times: user 1min 47s, sys: 32.1 ms, total: 1min 47s\n",
      "Wall time: 1min 47s\n"
     ]
    }
   ],
   "source": [
    "%%time\n",
    "\n",
    "train_wde = []   # word, definition, embedding\n",
    "test_wd = []    # word, definition\n",
    "\n",
    "for word in train_words:\n",
    "    defin = ozh[ozh['VOCAB'] == word].reset_index().iloc[0]['DEF']\n",
    "    emb = w2v.get_vector(word)\n",
    "    train_wde.append((word, defin, emb))\n",
    "    \n",
    "for word in test_words:\n",
    "    defin = ozh[ozh['VOCAB'] == word].reset_index().iloc[0]['DEF']\n",
    "    test_wd.append((word, defin))"
   ]
  },
  {
   "cell_type": "code",
   "execution_count": 18,
   "metadata": {
    "scrolled": true
   },
   "outputs": [
    {
     "name": "stdout",
     "output_type": "stream",
     "text": [
      "37746 1209\n"
     ]
    }
   ],
   "source": [
    "ozhegov_emb = pd.DataFrame(train_wde, columns=['word', 'definition', 'embedding'])\n",
    "ozhegov_no_emb = pd.DataFrame(test_wd, columns=['word', 'definition'])\n",
    "\n",
    "assert set(ozhegov_emb['word']).intersection(set(ozhegov_no_emb['word'])) == set()\n",
    "print(ozhegov_emb.shape[0], ozhegov_no_emb.shape[0])"
   ]
  },
  {
   "cell_type": "code",
   "execution_count": 19,
   "metadata": {
    "scrolled": true
   },
   "outputs": [
    {
     "name": "stdout",
     "output_type": "stream",
     "text": [
      "(6251, 3) (21403, 3)\n"
     ]
    }
   ],
   "source": [
    "bert_train = ozhegov_emb[ozhegov_emb.apply(lambda x: True if (x['word'] in umfreq) else False, axis = 1)]\n",
    "bert_valid = ozhegov_emb[ozhegov_emb.apply(lambda x: True if (x['word'] in ulfreq) else False, axis = 1)]\n",
    "\n",
    "assert set(bert_train['word']).intersection(set(bert_valid['word'])) == set()\n",
    "print(bert_train.shape, bert_valid.shape)"
   ]
  },
  {
   "cell_type": "code",
   "execution_count": 20,
   "metadata": {},
   "outputs": [
    {
     "name": "stderr",
     "output_type": "stream",
     "text": [
      "/home/vladimir/anaconda3/lib/python3.7/site-packages/ipykernel_launcher.py:2: SettingWithCopyWarning: \n",
      "A value is trying to be set on a copy of a slice from a DataFrame.\n",
      "Try using .loc[row_indexer,col_indexer] = value instead\n",
      "\n",
      "See the caveats in the documentation: http://pandas.pydata.org/pandas-docs/stable/indexing.html#indexing-view-versus-copy\n",
      "  \n",
      "/home/vladimir/anaconda3/lib/python3.7/site-packages/ipykernel_launcher.py:3: SettingWithCopyWarning: \n",
      "A value is trying to be set on a copy of a slice from a DataFrame.\n",
      "Try using .loc[row_indexer,col_indexer] = value instead\n",
      "\n",
      "See the caveats in the documentation: http://pandas.pydata.org/pandas-docs/stable/indexing.html#indexing-view-versus-copy\n",
      "  This is separate from the ipykernel package so we can avoid doing imports until\n"
     ]
    }
   ],
   "source": [
    "ozhegov_emb['embedding'] = ozhegov_emb['embedding'].apply(lambda x: x.tolist())\n",
    "bert_train['embedding'] = bert_train['embedding'].apply(lambda x: x.tolist())\n",
    "bert_valid['embedding'] = bert_valid['embedding'].apply(lambda x: x.tolist())\n",
    "\n",
    "ozhegov_emb.to_csv('rus/ozhegov/ozhegov_emb.csv', index=None)\n",
    "ozhegov_no_emb.to_csv('rus/ozhegov/ozhegov_no_emb.csv', index=None)\n",
    "\n",
    "bert_train.to_csv('rus/bert/bert_train.csv', index=None)\n",
    "bert_valid.to_csv('rus/bert/bert_valid.csv', index=None)"
   ]
  },
  {
   "cell_type": "code",
   "execution_count": null,
   "metadata": {},
   "outputs": [],
   "source": []
  }
 ],
 "metadata": {
  "kernelspec": {
   "display_name": "Python 3",
   "language": "python",
   "name": "python3"
  },
  "language_info": {
   "codemirror_mode": {
    "name": "ipython",
    "version": 3
   },
   "file_extension": ".py",
   "mimetype": "text/x-python",
   "name": "python",
   "nbconvert_exporter": "python",
   "pygments_lexer": "ipython3",
   "version": "3.7.2"
  }
 },
 "nbformat": 4,
 "nbformat_minor": 2
}
