{
 "cells": [
  {
   "cell_type": "code",
   "execution_count": 2,
   "metadata": {},
   "outputs": [],
   "source": [
    "import numpy as np\n",
    "import pandas as pd"
   ]
  },
  {
   "cell_type": "code",
   "execution_count": 17,
   "metadata": {},
   "outputs": [],
   "source": [
    "train_data = pd.read_csv('russe-evaluation/russe/evaluation/train.csv')\n",
    "test_data = pd.read_csv('russe-evaluation/russe/evaluation/test.csv')"
   ]
  },
  {
   "cell_type": "code",
   "execution_count": 22,
   "metadata": {},
   "outputs": [],
   "source": [
    "hfreq = np.load('rusfreq/hfreq_words.npy')\n",
    "mfreq = np.load('rusfreq/mfreq_words.npy')\n",
    "lfreq = np.load('rusfreq/lfreq_words.npy')"
   ]
  },
  {
   "cell_type": "code",
   "execution_count": 25,
   "metadata": {},
   "outputs": [],
   "source": [
    "def find_freq(word, hfreq = hfreq, mfreq = mfreq, lfreq = lfreq):\n",
    "    if word in hfreq:\n",
    "        return 'H'\n",
    "    if word in mfreq:\n",
    "        return 'M'\n",
    "    if word in lfreq:\n",
    "        return 'L'\n",
    "    else:\n",
    "        return 'N'"
   ]
  },
  {
   "cell_type": "code",
   "execution_count": 31,
   "metadata": {},
   "outputs": [],
   "source": [
    "%%time\n",
    "\n",
    "train_data['word1_freq'] = train_data['word1'].apply(lambda x: find_freq(x))\n",
    "train_data['word2_freq'] = train_data['word2'].apply(lambda x: find_freq(x))\n",
    "\n",
    "test_data['word1_freq'] = test_data['word1'].apply(lambda x: find_freq(x))\n",
    "test_data['word2_freq'] = test_data['word2'].apply(lambda x: find_freq(x))"
   ]
  },
  {
   "cell_type": "code",
   "execution_count": 32,
   "metadata": {},
   "outputs": [],
   "source": [
    "train_data['words_freq'] = train_data['word1_freq'] + train_data['word2_freq']\n",
    "test_data['words_freq'] = test_data['word1_freq'] + test_data['word2_freq']"
   ]
  },
  {
   "cell_type": "code",
   "execution_count": 33,
   "metadata": {
    "scrolled": true
   },
   "outputs": [
    {
     "data": {
      "text/plain": [
       "MN    93500\n",
       "MM    68972\n",
       "ML    12466\n",
       "HN     9490\n",
       "HM     6073\n",
       "NN     5413\n",
       "NM     3986\n",
       "MH     2979\n",
       "LM     2001\n",
       "LN     1846\n",
       "HL      865\n",
       "NL      595\n",
       "HH      517\n",
       "LL      388\n",
       "NH      174\n",
       "LH       55\n",
       "Name: words_freq, dtype: int64"
      ]
     },
     "execution_count": 33,
     "metadata": {},
     "output_type": "execute_result"
    }
   ],
   "source": [
    "train_data['words_freq'].value_counts()"
   ]
  },
  {
   "cell_type": "code",
   "execution_count": 34,
   "metadata": {},
   "outputs": [
    {
     "data": {
      "text/plain": [
       "MM    8073\n",
       "MN    3117\n",
       "NM     837\n",
       "ML     555\n",
       "LM     526\n",
       "MH     412\n",
       "NN     411\n",
       "HM     335\n",
       "LN     197\n",
       "HN     118\n",
       "NL      85\n",
       "LL      62\n",
       "HH      50\n",
       "NH      33\n",
       "LH      18\n",
       "HL       6\n",
       "Name: words_freq, dtype: int64"
      ]
     },
     "execution_count": 34,
     "metadata": {},
     "output_type": "execute_result"
    }
   ],
   "source": [
    "test_data['words_freq'].value_counts()"
   ]
  },
  {
   "cell_type": "code",
   "execution_count": null,
   "metadata": {},
   "outputs": [],
   "source": []
  }
 ],
 "metadata": {
  "kernelspec": {
   "display_name": "Python 3",
   "language": "python",
   "name": "python3"
  },
  "language_info": {
   "codemirror_mode": {
    "name": "ipython",
    "version": 3
   },
   "file_extension": ".py",
   "mimetype": "text/x-python",
   "name": "python",
   "nbconvert_exporter": "python",
   "pygments_lexer": "ipython3",
   "version": "3.7.2"
  }
 },
 "nbformat": 4,
 "nbformat_minor": 2
}
