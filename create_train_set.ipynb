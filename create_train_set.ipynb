{
 "cells": [
  {
   "cell_type": "code",
   "execution_count": 1,
   "metadata": {},
   "outputs": [
    {
     "name": "stderr",
     "output_type": "stream",
     "text": [
      "paramiko missing, opening SSH/SCP/SFTP paths will be disabled.  `pip install paramiko` to suppress\n"
     ]
    }
   ],
   "source": [
    "import gensim\n",
    "import numpy as np\n",
    "import pandas as pd\n",
    "\n",
    "from gensim.models import word2vec\n",
    "from gensim.models import KeyedVectors"
   ]
  },
  {
   "cell_type": "code",
   "execution_count": 2,
   "metadata": {},
   "outputs": [],
   "source": [
    "hfreq = np.load('rusfreq/hfreq_words.npy')\n",
    "mfreq = np.load('rusfreq/mfreq_words.npy')\n",
    "lfreq = np.load('rusfreq/lfreq_words.npy')"
   ]
  },
  {
   "cell_type": "code",
   "execution_count": 3,
   "metadata": {},
   "outputs": [],
   "source": [
    "# только из mfreq слов\n",
    "# слово - определение - w2v\n",
    "tv = pd.read_csv('OZHEGOV.TXT', sep = '|', encoding = 'cp1251')"
   ]
  },
  {
   "cell_type": "code",
   "execution_count": null,
   "metadata": {},
   "outputs": [],
   "source": []
  },
  {
   "cell_type": "code",
   "execution_count": 4,
   "metadata": {},
   "outputs": [],
   "source": [
    "train = pd.DataFrame(mfreq, columns=['word'])"
   ]
  },
  {
   "cell_type": "code",
   "execution_count": 5,
   "metadata": {},
   "outputs": [],
   "source": [
    "#tv[tv['VOCAB'] == 'аdfббат'].reset_index().iloc[0]['DEF']"
   ]
  },
  {
   "cell_type": "code",
   "execution_count": 6,
   "metadata": {},
   "outputs": [],
   "source": [
    "def find_def(word, voc):\n",
    "    try:\n",
    "        res = voc[voc['VOCAB'] == word].reset_index().iloc[0]['DEF']\n",
    "        return res\n",
    "    except IndexError:\n",
    "        return ''"
   ]
  },
  {
   "cell_type": "code",
   "execution_count": 7,
   "metadata": {},
   "outputs": [
    {
     "name": "stdout",
     "output_type": "stream",
     "text": [
      "CPU times: user 25.2 s, sys: 0 ns, total: 25.2 s\n",
      "Wall time: 25.2 s\n"
     ]
    }
   ],
   "source": [
    "%%time\n",
    "\n",
    "train['def'] = train['word'].apply(lambda x: find_def(x, tv))"
   ]
  },
  {
   "cell_type": "code",
   "execution_count": 8,
   "metadata": {},
   "outputs": [
    {
     "data": {
      "text/plain": [
       "(8331, 2)"
      ]
     },
     "execution_count": 8,
     "metadata": {},
     "output_type": "execute_result"
    }
   ],
   "source": [
    "train.shape"
   ]
  },
  {
   "cell_type": "code",
   "execution_count": 9,
   "metadata": {},
   "outputs": [],
   "source": [
    "w2v = gensim.models.KeyedVectors.load_word2vec_format('wiki_raw.norm-sz100-w3-cb0-it1-min5.w2v', binary=True)"
   ]
  },
  {
   "cell_type": "code",
   "execution_count": 10,
   "metadata": {},
   "outputs": [
    {
     "data": {
      "text/plain": [
       "array([-0.5701921 , -0.27394158,  0.02280777, -0.4894515 ,  0.54215515,\n",
       "       -0.4281548 ,  0.4003385 , -0.10953358, -0.6533023 , -0.73138285,\n",
       "        0.26795992, -0.16679892, -0.41937795,  0.4035507 , -0.0742031 ,\n",
       "        0.6059421 ,  0.01325974,  1.2651353 , -0.08381952,  0.40059766,\n",
       "        0.02367786, -0.43217194, -0.17565678, -0.38690183, -0.85810894,\n",
       "       -0.03953586,  0.5233985 , -0.8907283 , -0.60599434, -0.5528671 ,\n",
       "       -0.43831566, -0.08817699,  0.05172507,  0.22832765,  0.13604075,\n",
       "        0.20938659, -0.28866228,  0.04541906,  0.3075019 , -0.07127657,\n",
       "       -0.27910343,  0.59402305, -0.74404556, -0.07597907,  0.07222198,\n",
       "        0.28152362, -0.37301755,  0.1488566 , -0.3915298 , -0.06427282,\n",
       "        0.0815063 ,  0.10557913,  0.8033926 , -0.00987538, -0.14079957,\n",
       "       -0.17681727, -0.46087292,  0.2448615 , -0.05697604,  0.13494623,\n",
       "       -0.11326645,  0.349061  ,  0.8931685 ,  0.5932855 , -0.20951305,\n",
       "        0.16627768,  0.4758318 ,  0.13566531, -0.41566294,  0.10103346,\n",
       "       -0.62626916,  0.05785149, -0.5799048 , -0.7312339 , -0.328288  ,\n",
       "       -0.5544491 ,  0.1328554 ,  0.33107954, -0.19022518,  0.22542928,\n",
       "        0.6964716 , -0.6026394 , -0.09845505,  0.18693148, -0.08671998,\n",
       "        0.2563915 , -0.5760442 , -0.20697504, -0.23101696,  0.21159859,\n",
       "       -0.67377436, -0.18675196, -0.21450289, -0.36085004, -0.01709447,\n",
       "        0.94998336, -0.4183536 , -0.07993932, -0.5972032 , -0.6279982 ],\n",
       "      dtype=float32)"
      ]
     },
     "execution_count": 10,
     "metadata": {},
     "output_type": "execute_result"
    }
   ],
   "source": [
    "w2v.get_vector('аббатство')"
   ]
  },
  {
   "cell_type": "code",
   "execution_count": 11,
   "metadata": {},
   "outputs": [],
   "source": [
    "def find_embedding(word, w2v):\n",
    "    try:\n",
    "        emb = w2v.get_vector(word)\n",
    "        return emb.tolist()\n",
    "    except KeyError:\n",
    "        return []"
   ]
  },
  {
   "cell_type": "code",
   "execution_count": 12,
   "metadata": {},
   "outputs": [],
   "source": [
    "train['embedding'] = train['word'].apply(lambda x: find_embedding(x, w2v))"
   ]
  },
  {
   "cell_type": "code",
   "execution_count": 13,
   "metadata": {
    "scrolled": true
   },
   "outputs": [
    {
     "data": {
      "text/plain": [
       "100    7645\n",
       "0       686\n",
       "Name: embedding, dtype: int64"
      ]
     },
     "execution_count": 13,
     "metadata": {},
     "output_type": "execute_result"
    }
   ],
   "source": [
    "train['embedding'].apply(lambda x: len(x)).value_counts()"
   ]
  },
  {
   "cell_type": "code",
   "execution_count": 14,
   "metadata": {},
   "outputs": [],
   "source": [
    "train = train[(train['def'] != '') & (train['embedding'].apply(lambda x: len(x)) > 0)].reset_index()[['word', 'def', 'embedding']]"
   ]
  },
  {
   "cell_type": "code",
   "execution_count": 15,
   "metadata": {},
   "outputs": [],
   "source": [
    "train.to_csv('rus_train.csv')"
   ]
  },
  {
   "cell_type": "code",
   "execution_count": 16,
   "metadata": {},
   "outputs": [],
   "source": [
    "import ast\n",
    "train = pd.read_csv('rus_train.csv')[['word', 'def', 'embedding']]"
   ]
  },
  {
   "cell_type": "code",
   "execution_count": 17,
   "metadata": {},
   "outputs": [],
   "source": [
    "train['embedding'] = train['embedding'].apply(lambda x: ast.literal_eval(x))"
   ]
  },
  {
   "cell_type": "code",
   "execution_count": null,
   "metadata": {},
   "outputs": [],
   "source": []
  },
  {
   "cell_type": "code",
   "execution_count": null,
   "metadata": {},
   "outputs": [],
   "source": []
  }
 ],
 "metadata": {
  "kernelspec": {
   "display_name": "Python 3",
   "language": "python",
   "name": "python3"
  },
  "language_info": {
   "codemirror_mode": {
    "name": "ipython",
    "version": 3
   },
   "file_extension": ".py",
   "mimetype": "text/x-python",
   "name": "python",
   "nbconvert_exporter": "python",
   "pygments_lexer": "ipython3",
   "version": "3.7.2"
  }
 },
 "nbformat": 4,
 "nbformat_minor": 2
}
