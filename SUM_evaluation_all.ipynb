{
 "cells": [
  {
   "cell_type": "code",
   "execution_count": 1,
   "metadata": {},
   "outputs": [
    {
     "name": "stderr",
     "output_type": "stream",
     "text": [
      "paramiko missing, opening SSH/SCP/SFTP paths will be disabled.  `pip install paramiko` to suppress\n"
     ]
    }
   ],
   "source": [
    "import numpy as np\n",
    "import pandas as pd\n",
    "\n",
    "import gensim\n",
    "import pickle\n",
    "import scipy\n",
    "import torch\n",
    "from pytorch_pretrained_bert import BertTokenizer, BertModel, BertForMaskedLM"
   ]
  },
  {
   "cell_type": "code",
   "execution_count": 2,
   "metadata": {},
   "outputs": [],
   "source": [
    "class BertToW2v(torch.nn.Module):\n",
    "    def __init__(self, bert_model_name, lin_shape_in, lin_shape_out, emb_layer): # -, 768, 100, 6\n",
    "        super(BertToW2v, self).__init__()\n",
    "        self.emb_layer = emb_layer\n",
    "        self.bert_model = BertModel.from_pretrained(bert_model_name)\n",
    "        #self.bert_model.eval()\n",
    "        self.linear_model = torch.nn.Linear(lin_shape_in, lin_shape_out, bias=True) # bias?\n",
    "        torch.nn.init.uniform_(self.linear_model.weight, -0.1, 0.1)\n",
    "        \n",
    "    def forward(self, input_sentence): # ожидаем уже токенизированное предложение\n",
    "        encoded_layers, _ = self.bert_model(input_sentence)\n",
    "        bert_output = encoded_layers[self.emb_layer][0][1]\n",
    "        linear_output = self.linear_model(bert_output).unsqueeze(0)\n",
    "        return linear_output"
   ]
  },
  {
   "cell_type": "code",
   "execution_count": 3,
   "metadata": {},
   "outputs": [],
   "source": [
    "ozhegov_emb = pd.read_csv('rus/ozhegov/ozhegov_emb.csv')[['word', 'definition']]\n",
    "ozhegov_no_emb = pd.read_csv('rus/ozhegov/ozhegov_no_emb.csv')\n",
    "\n",
    "with open('rus/freq/low_freq.pkl', 'rb') as f:\n",
    "    ulfreq = pickle.load(file=f)\n",
    "    \n",
    "ozhegov = pd.concat([ozhegov_emb, ozhegov_no_emb], axis = 0)\n",
    "\n",
    "ozhegov['lfreq'] = ozhegov['word'].apply(lambda word: word in ulfreq)\n",
    "\n",
    "ozhegov_lfreq = ozhegov[ozhegov['lfreq'] == True][['word', 'definition']]"
   ]
  },
  {
   "cell_type": "code",
   "execution_count": 4,
   "metadata": {},
   "outputs": [],
   "source": [
    "defs = set(ozhegov_lfreq['word'])\n",
    "tokenizer = BertTokenizer.from_pretrained('bert-base-multilingual-cased', do_lower_case=False)\n",
    "w2v = gensim.models.KeyedVectors.load_word2vec_format('w2v_models/all_norm-sz500-w10-cb0-it3-min5.w2v', binary=True, unicode_errors='ignore')\n",
    "\n",
    "test = pd.read_csv('russe-evaluation/russe/evaluation/test.csv')"
   ]
  },
  {
   "cell_type": "code",
   "execution_count": 5,
   "metadata": {},
   "outputs": [],
   "source": [
    "bw2v = BertToW2v('bert-base-multilingual-cased', lin_shape_in=768, lin_shape_out=500, emb_layer=6) # !!!\n",
    "bw2v.load_state_dict(torch.load('models/SUM_cosine_annealing_v0ep_l6.mdl')) # !!!\n",
    "bw2v.to('cuda');"
   ]
  },
  {
   "cell_type": "code",
   "execution_count": 23,
   "metadata": {},
   "outputs": [],
   "source": [
    "def find_embedding(word, model, w2v, ozhegov_lfreq, defs, tokenizer):\n",
    "    if word in defs:\n",
    "        print(word)\n",
    "        defin = ozhegov_lfreq[ozhegov_lfreq['word'] == word].reset_index()['definition'][0]\n",
    "        defin = '[CLS] [MASK] - ' + defin + ' [SEP]'\n",
    "        tokens = tokenizer.tokenize(defin)\n",
    "        tok_ids = torch.tensor([tokenizer.convert_tokens_to_ids(tokens)]).to('cuda')\n",
    "        with torch.no_grad():\n",
    "            embedding = model(tok_ids)\n",
    "        return embedding.to('cpu').numpy()\n",
    "    else:\n",
    "        try:\n",
    "            return w2v.get_vector(word)\n",
    "        except KeyError:\n",
    "            return np.nan\n",
    "        \n",
    "def get_cosine_distance(word1, word2, model, w2v, ozhegov_lfreq, defs, tokenizer):\n",
    "    emb1 = find_embedding(word1, model, w2v, ozhegov_lfreq, defs, tokenizer)\n",
    "    emb2 = find_embedding(word2, model, w2v, ozhegov_lfreq, defs, tokenizer)\n",
    "    if (np.isnan(np.sum(emb1)) or np.isnan(np.sum(emb2))):\n",
    "        return np.nan\n",
    "    return 1 - scipy.spatial.distance.cosine(emb1, emb2)\n",
    "\n",
    "#assert abs(get_cosine_distance('абрикос', 'год', bw2v, w2v, ozhegov_lfreq, defs, tokenizer) - (1 - w2v.distance('абрикос', 'год'))) < 0.000001"
   ]
  },
  {
   "cell_type": "code",
   "execution_count": 24,
   "metadata": {},
   "outputs": [
    {
     "data": {
      "text/plain": [
       "nan"
      ]
     },
     "execution_count": 24,
     "metadata": {},
     "output_type": "execute_result"
    }
   ],
   "source": [
    "get_cosine_distance('диск-жокей', 'зачем-то', bw2v, w2v, ozhegov_lfreq, defs, tokenizer)"
   ]
  },
  {
   "cell_type": "code",
   "execution_count": 25,
   "metadata": {},
   "outputs": [],
   "source": [
    "# defin = ozhegov_lfreq[ozhegov_lfreq['word'] == 'зачем-то'].reset_index()['definition'][0]\n",
    "# defin = '[CLS] [MASK] - ' + defin + ' [SEP]'\n",
    "# tokens = tokenizer.tokenize(defin)\n",
    "# tok_ids = torch.tensor([tokenizer.convert_tokens_to_ids(tokens)]).to('cuda')"
   ]
  },
  {
   "cell_type": "code",
   "execution_count": 26,
   "metadata": {},
   "outputs": [],
   "source": [
    "# with torch.no_grad():\n",
    "#     tmp = bw2v.bert_model(tok_ids)"
   ]
  },
  {
   "cell_type": "code",
   "execution_count": 27,
   "metadata": {
    "scrolled": true
   },
   "outputs": [
    {
     "name": "stderr",
     "output_type": "stream",
     "text": [
      "/home/vladimir/anaconda3/lib/python3.7/site-packages/scipy/spatial/distance.py:698: RuntimeWarning: invalid value encountered in double_scalars\n",
      "  dist = 1.0 - uv / np.sqrt(uu * vv)\n"
     ]
    }
   ],
   "source": [
    "test['sim'] = test.apply(lambda row: get_cosine_distance(row['word1'], row['word2'], bw2v, w2v, ozhegov_lfreq, defs, tokenizer), axis=1)"
   ]
  },
  {
   "cell_type": "code",
   "execution_count": 28,
   "metadata": {},
   "outputs": [],
   "source": [
    "test['sim'] = test['sim'].fillna(test['sim'].mean())"
   ]
  },
  {
   "cell_type": "code",
   "execution_count": 29,
   "metadata": {},
   "outputs": [],
   "source": [
    "test.to_csv('russe-evaluation/russe/evaluation/v0ep_l6.csv', index=None)"
   ]
  },
  {
   "cell_type": "code",
   "execution_count": 30,
   "metadata": {},
   "outputs": [],
   "source": [
    "pd.set_option('max_colwidth', 160)"
   ]
  },
  {
   "cell_type": "code",
   "execution_count": 14,
   "metadata": {},
   "outputs": [
    {
     "data": {
      "text/plain": [
       "(8503, 2)"
      ]
     },
     "execution_count": 14,
     "metadata": {},
     "output_type": "execute_result"
    }
   ],
   "source": [
    "ozhegov_lfreq.shape"
   ]
  },
  {
   "cell_type": "code",
   "execution_count": 15,
   "metadata": {},
   "outputs": [
    {
     "data": {
      "text/html": [
       "<div>\n",
       "<style scoped>\n",
       "    .dataframe tbody tr th:only-of-type {\n",
       "        vertical-align: middle;\n",
       "    }\n",
       "\n",
       "    .dataframe tbody tr th {\n",
       "        vertical-align: top;\n",
       "    }\n",
       "\n",
       "    .dataframe thead th {\n",
       "        text-align: right;\n",
       "    }\n",
       "</style>\n",
       "<table border=\"1\" class=\"dataframe\">\n",
       "  <thead>\n",
       "    <tr style=\"text-align: right;\">\n",
       "      <th></th>\n",
       "      <th>word</th>\n",
       "      <th>definition</th>\n",
       "    </tr>\n",
       "  </thead>\n",
       "  <tbody>\n",
       "    <tr>\n",
       "      <th>11971</th>\n",
       "      <td>подсудный</td>\n",
       "      <td>подлежащий суду (вообще или в данной судебной инстанции)</td>\n",
       "    </tr>\n",
       "    <tr>\n",
       "      <th>19683</th>\n",
       "      <td>ксендз</td>\n",
       "      <td>польский католический священник</td>\n",
       "    </tr>\n",
       "    <tr>\n",
       "      <th>12140</th>\n",
       "      <td>неустройство</td>\n",
       "      <td>отсутствие порядка, правильного устройства</td>\n",
       "    </tr>\n",
       "    <tr>\n",
       "      <th>24750</th>\n",
       "      <td>прострел</td>\n",
       "      <td>об острой боли (обычно в результате простуды)</td>\n",
       "    </tr>\n",
       "    <tr>\n",
       "      <th>22233</th>\n",
       "      <td>рагу</td>\n",
       "      <td>кушанье из мелких тушеных кусочков мяса, рыбы или овощей</td>\n",
       "    </tr>\n",
       "    <tr>\n",
       "      <th>11370</th>\n",
       "      <td>мракобес</td>\n",
       "      <td>реакционер, враг прогресса, культуры, науки</td>\n",
       "    </tr>\n",
       "    <tr>\n",
       "      <th>21076</th>\n",
       "      <td>бессердечный</td>\n",
       "      <td>чуждый мягкости, сердечности, бездушный, бездушный, жестокий</td>\n",
       "    </tr>\n",
       "    <tr>\n",
       "      <th>11235</th>\n",
       "      <td>попрошайка</td>\n",
       "      <td>человек который назойливо выпрашивает, надоедает просьбами</td>\n",
       "    </tr>\n",
       "    <tr>\n",
       "      <th>6667</th>\n",
       "      <td>забастовщик</td>\n",
       "      <td>участник забастовки</td>\n",
       "    </tr>\n",
       "    <tr>\n",
       "      <th>638</th>\n",
       "      <td>грейдер</td>\n",
       "      <td>колесная землеройная машина, употребляемая в дорожном строительстве</td>\n",
       "    </tr>\n",
       "    <tr>\n",
       "      <th>20232</th>\n",
       "      <td>вправить</td>\n",
       "      <td>ввести, вставить на свое место</td>\n",
       "    </tr>\n",
       "    <tr>\n",
       "      <th>29652</th>\n",
       "      <td>разжалобить</td>\n",
       "      <td>вызвать в ком-нибудь сочувствие, жалость к себе</td>\n",
       "    </tr>\n",
       "    <tr>\n",
       "      <th>28620</th>\n",
       "      <td>речник</td>\n",
       "      <td>работник речного транспорта</td>\n",
       "    </tr>\n",
       "    <tr>\n",
       "      <th>345</th>\n",
       "      <td>тик-так</td>\n",
       "      <td>воспроизведение тиканья часов</td>\n",
       "    </tr>\n",
       "    <tr>\n",
       "      <th>26915</th>\n",
       "      <td>хунта</td>\n",
       "      <td>название различных объединений, группировок союзов государственных органов</td>\n",
       "    </tr>\n",
       "    <tr>\n",
       "      <th>34231</th>\n",
       "      <td>миропомазание</td>\n",
       "      <td>помазание миром - обряд, сопровождающий некоторые церковные таинства (крещение, помазание на царство)</td>\n",
       "    </tr>\n",
       "    <tr>\n",
       "      <th>5726</th>\n",
       "      <td>харкать</td>\n",
       "      <td>плевать, с шумом прочищая горло</td>\n",
       "    </tr>\n",
       "    <tr>\n",
       "      <th>23494</th>\n",
       "      <td>клубничка</td>\n",
       "      <td>о чем-нибудь скабрезном, эротическом</td>\n",
       "    </tr>\n",
       "    <tr>\n",
       "      <th>29656</th>\n",
       "      <td>снегоход</td>\n",
       "      <td>автомобиль для передвижения по глубокому снегу</td>\n",
       "    </tr>\n",
       "    <tr>\n",
       "      <th>28767</th>\n",
       "      <td>гречиха</td>\n",
       "      <td>посевное травянистое растение, из семян которого изготовляют крупу и муку</td>\n",
       "    </tr>\n",
       "  </tbody>\n",
       "</table>\n",
       "</div>"
      ],
      "text/plain": [
       "                word  \\\n",
       "11971      подсудный   \n",
       "19683         ксендз   \n",
       "12140   неустройство   \n",
       "24750       прострел   \n",
       "22233           рагу   \n",
       "11370       мракобес   \n",
       "21076   бессердечный   \n",
       "11235     попрошайка   \n",
       "6667     забастовщик   \n",
       "638          грейдер   \n",
       "20232       вправить   \n",
       "29652    разжалобить   \n",
       "28620         речник   \n",
       "345          тик-так   \n",
       "26915          хунта   \n",
       "34231  миропомазание   \n",
       "5726         харкать   \n",
       "23494      клубничка   \n",
       "29656       снегоход   \n",
       "28767        гречиха   \n",
       "\n",
       "                                                                                                  definition  \n",
       "11971                                               подлежащий суду (вообще или в данной судебной инстанции)  \n",
       "19683                                                                        польский католический священник  \n",
       "12140                                                             отсутствие порядка, правильного устройства  \n",
       "24750                                                          об острой боли (обычно в результате простуды)  \n",
       "22233                                               кушанье из мелких тушеных кусочков мяса, рыбы или овощей  \n",
       "11370                                                            реакционер, враг прогресса, культуры, науки  \n",
       "21076                                           чуждый мягкости, сердечности, бездушный, бездушный, жестокий  \n",
       "11235                                             человек который назойливо выпрашивает, надоедает просьбами  \n",
       "6667                                                                                     участник забастовки  \n",
       "638                                      колесная землеройная машина, употребляемая в дорожном строительстве  \n",
       "20232                                                                         ввести, вставить на свое место  \n",
       "29652                                                        вызвать в ком-нибудь сочувствие, жалость к себе  \n",
       "28620                                                                            работник речного транспорта  \n",
       "345                                                                            воспроизведение тиканья часов  \n",
       "26915                             название различных объединений, группировок союзов государственных органов  \n",
       "34231  помазание миром - обряд, сопровождающий некоторые церковные таинства (крещение, помазание на царство)  \n",
       "5726                                                                         плевать, с шумом прочищая горло  \n",
       "23494                                                                   о чем-нибудь скабрезном, эротическом  \n",
       "29656                                                         автомобиль для передвижения по глубокому снегу  \n",
       "28767                              посевное травянистое растение, из семян которого изготовляют крупу и муку  "
      ]
     },
     "execution_count": 15,
     "metadata": {},
     "output_type": "execute_result"
    }
   ],
   "source": [
    "ozhegov_lfreq.sample(20)"
   ]
  },
  {
   "cell_type": "code",
   "execution_count": 16,
   "metadata": {},
   "outputs": [
    {
     "name": "stdout",
     "output_type": "stream",
     "text": [
      "2683\n"
     ]
    }
   ],
   "source": [
    "## необязательная часть, проверка:\n",
    "with open('tmp_words.txt', 'r') as f:\n",
    "    words = set(f.read().split('\\n'))\n",
    "    print(len(words))"
   ]
  },
  {
   "cell_type": "code",
   "execution_count": 17,
   "metadata": {},
   "outputs": [],
   "source": [
    "# for word in words:\n",
    "#     if word != '':\n",
    "#         print(ozhegov_lfreq[ozhegov_lfreq['word'] == word].reset_index()['definition'][0])"
   ]
  }
 ],
 "metadata": {
  "kernelspec": {
   "display_name": "Python 3",
   "language": "python",
   "name": "python3"
  },
  "language_info": {
   "codemirror_mode": {
    "name": "ipython",
    "version": 3
   },
   "file_extension": ".py",
   "mimetype": "text/x-python",
   "name": "python",
   "nbconvert_exporter": "python",
   "pygments_lexer": "ipython3",
   "version": "3.7.2"
  }
 },
 "nbformat": 4,
 "nbformat_minor": 2
}
