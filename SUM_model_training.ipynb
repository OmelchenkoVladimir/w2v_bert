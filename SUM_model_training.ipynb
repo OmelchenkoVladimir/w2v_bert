{
 "cells": [
  {
   "cell_type": "code",
   "execution_count": 1,
   "metadata": {},
   "outputs": [
    {
     "name": "stderr",
     "output_type": "stream",
     "text": [
      "paramiko missing, opening SSH/SCP/SFTP paths will be disabled.  `pip install paramiko` to suppress\n"
     ]
    }
   ],
   "source": [
    "import ast\n",
    "import numpy as np\n",
    "import pandas as pd\n",
    "import gensim\n",
    "import scipy\n",
    "import torch\n",
    "\n",
    "from pytorch_pretrained_bert import BertTokenizer, BertModel, BertForMaskedLM"
   ]
  },
  {
   "cell_type": "code",
   "execution_count": 2,
   "metadata": {},
   "outputs": [],
   "source": [
    "train = pd.read_csv('rus/bert/bert_train.csv')\n",
    "valid = pd.read_csv('rus/bert/bert_valid.csv')"
   ]
  },
  {
   "cell_type": "code",
   "execution_count": 3,
   "metadata": {},
   "outputs": [],
   "source": [
    "class BertToW2v(torch.nn.Module):\n",
    "    def __init__(self, bert_model_name, lin_shape_in, lin_shape_out, emb_layer): # -, 768, 100, 6\n",
    "        super(BertToW2v, self).__init__()\n",
    "        self.emb_layer = emb_layer\n",
    "        self.bert_model = BertModel.from_pretrained(bert_model_name)\n",
    "        #self.bert_model.eval()\n",
    "        self.linear_model = torch.nn.Linear(lin_shape_in, lin_shape_out, bias=True) # bias?\n",
    "        torch.nn.init.uniform_(self.linear_model.weight, -0.1, 0.1)\n",
    "        \n",
    "    def forward(self, input_sentence): # ожидаем уже токенизированное предложение\n",
    "        encoded_layers, _ = self.bert_model(input_sentence)\n",
    "        bert_output = encoded_layers[self.emb_layer][0][1]\n",
    "        linear_output = self.linear_model(bert_output).unsqueeze(0)\n",
    "        return linear_output"
   ]
  },
  {
   "cell_type": "code",
   "execution_count": 4,
   "metadata": {},
   "outputs": [],
   "source": [
    "bw2v = BertToW2v('bert-base-multilingual-cased', lin_shape_in=768, lin_shape_out=500, emb_layer=6)\n",
    "bw2v.to('cuda');"
   ]
  },
  {
   "cell_type": "code",
   "execution_count": 5,
   "metadata": {},
   "outputs": [],
   "source": [
    "train['embedding'] = train['embedding'].apply(lambda x: ast.literal_eval(x))\n",
    "valid['embedding'] = valid['embedding'].apply(lambda x: ast.literal_eval(x))"
   ]
  },
  {
   "cell_type": "code",
   "execution_count": 6,
   "metadata": {},
   "outputs": [],
   "source": [
    "loss_function = torch.nn.MSELoss()\n",
    "optimizer = torch.optim.Adam(bw2v.parameters(), lr=0.0001)\n",
    "\n",
    "small_valid = valid[:(train.shape[0] // 7)]"
   ]
  },
  {
   "cell_type": "code",
   "execution_count": 7,
   "metadata": {},
   "outputs": [
    {
     "name": "stdout",
     "output_type": "stream",
     "text": [
      "TRAIN_LOSS: 0.030604032842510034, VALID_LOSS: 0.03289801505167968\n",
      "TRAIN_LOSS: 0.02357221544748391, VALID_LOSS: 0.03132070761178135\n",
      "TRAIN_LOSS: 0.022162485717559046, VALID_LOSS: 0.031117166834700883\n",
      "TRAIN_LOSS: 0.021210889714224575, VALID_LOSS: 0.030762541722109977\n",
      "TRAIN_LOSS: 0.020553067121799266, VALID_LOSS: 0.030778037495744256\n",
      "CPU times: user 23min 15s, sys: 3min 11s, total: 26min 26s\n",
      "Wall time: 26min 29s\n"
     ]
    }
   ],
   "source": [
    "%%time\n",
    "\n",
    "tokenizer = BertTokenizer.from_pretrained('bert-base-multilingual-cased', do_lower_case=False)\n",
    "\n",
    "n_epochs = 5\n",
    "\n",
    "for i in range(n_epochs):\n",
    "    losses = []\n",
    "    for row in train.itertuples():\n",
    "        \n",
    "        defin = row.definition\n",
    "        defin = '[CLS] [MASK] - ' + defin + ' [SEP]'\n",
    "        tok_def = tokenizer.tokenize(defin)\n",
    "        tok_ids = torch.tensor([tokenizer.convert_tokens_to_ids(tok_def)])\n",
    "        tok_ids = tok_ids.to('cuda')\n",
    "        \n",
    "        optimizer.zero_grad()\n",
    "        \n",
    "        linear_output = bw2v(tok_ids)\n",
    "\n",
    "        #tensor_ones = torch.ones(1).to('cuda')\n",
    "        y = torch.tensor(row.embedding).unsqueeze(0).to('cuda')\n",
    "        loss = loss_function(linear_output, y)#, tensor_ones)\n",
    "        \n",
    "        loss.backward()\n",
    "        optimizer.step()\n",
    "\n",
    "        losses.append(float(loss.cpu()))\n",
    "    \n",
    "    valid_losses = []\n",
    "    \n",
    "    for row in small_valid.itertuples():\n",
    "        with torch.no_grad():\n",
    "            defin = row.definition\n",
    "            defin = '[CLS] [MASK] ' + defin + ' [SEP]'\n",
    "            tok_def = tokenizer.tokenize(defin)\n",
    "            tok_ids = torch.tensor([tokenizer.convert_tokens_to_ids(tok_def)])\n",
    "            tok_ids = tok_ids.to('cuda')\n",
    "            \n",
    "            linear_output = bw2v(tok_ids)\n",
    "            \n",
    "            y = torch.tensor(row.embedding).unsqueeze(0).to('cuda')\n",
    "            loss = loss_function(linear_output, y)\n",
    "            \n",
    "            valid_losses.append(float(loss.cpu()))\n",
    "        \n",
    "    print('TRAIN_LOSS: {0}, VALID_LOSS: {1}'.format((sum(losses) / len(losses)), (sum(valid_losses) / len(valid_losses))))"
   ]
  },
  {
   "cell_type": "code",
   "execution_count": 8,
   "metadata": {},
   "outputs": [],
   "source": [
    "torch.save(bw2v.state_dict(), 'models/SUM_5epochs_hyphen.mdl')"
   ]
  },
  {
   "cell_type": "code",
   "execution_count": null,
   "metadata": {},
   "outputs": [],
   "source": []
  }
 ],
 "metadata": {
  "kernelspec": {
   "display_name": "Python 3",
   "language": "python",
   "name": "python3"
  },
  "language_info": {
   "codemirror_mode": {
    "name": "ipython",
    "version": 3
   },
   "file_extension": ".py",
   "mimetype": "text/x-python",
   "name": "python",
   "nbconvert_exporter": "python",
   "pygments_lexer": "ipython3",
   "version": "3.7.2"
  }
 },
 "nbformat": 4,
 "nbformat_minor": 2
}
