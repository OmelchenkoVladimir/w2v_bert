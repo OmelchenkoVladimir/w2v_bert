{
 "cells": [
  {
   "cell_type": "code",
   "execution_count": 1,
   "metadata": {},
   "outputs": [],
   "source": [
    "import numpy as np\n",
    "import pandas as pd\n",
    "\n",
    "import pickle"
   ]
  },
  {
   "cell_type": "code",
   "execution_count": 2,
   "metadata": {},
   "outputs": [],
   "source": [
    "hfreq_threshold, lfreq_threshold = 7.8, 1.4  # was: 300, 10"
   ]
  },
  {
   "cell_type": "code",
   "execution_count": 3,
   "metadata": {},
   "outputs": [],
   "source": [
    "data = pd.read_csv('rusfreq/freqrnc2011.csv', sep = '\\t')"
   ]
  },
  {
   "cell_type": "code",
   "execution_count": 4,
   "metadata": {},
   "outputs": [],
   "source": [
    "hfreq = data[data['Freq(ipm)'] > hfreq_threshold]\n",
    "mfreq = data[(data['Freq(ipm)'] >= lfreq_threshold) & (data['Freq(ipm)'] <= hfreq_threshold)]\n",
    "lfreq = data[data['Freq(ipm)'] < lfreq_threshold]"
   ]
  },
  {
   "cell_type": "code",
   "execution_count": 5,
   "metadata": {},
   "outputs": [
    {
     "name": "stdout",
     "output_type": "stream",
     "text": [
      "10296 20497 21345\n"
     ]
    }
   ],
   "source": [
    "print(hfreq.shape[0], mfreq.shape[0], lfreq.shape[0])"
   ]
  },
  {
   "cell_type": "code",
   "execution_count": 6,
   "metadata": {},
   "outputs": [],
   "source": [
    "hfreq_words = set(hfreq['Lemma'])\n",
    "mfreq_words = set(mfreq['Lemma'])\n",
    "lfreq_words = set(lfreq['Lemma'])"
   ]
  },
  {
   "cell_type": "code",
   "execution_count": 7,
   "metadata": {},
   "outputs": [
    {
     "name": "stdout",
     "output_type": "stream",
     "text": [
      "10186 20456 21305\n"
     ]
    }
   ],
   "source": [
    "print(len(hfreq_words), len(mfreq_words), len(lfreq_words))"
   ]
  },
  {
   "cell_type": "code",
   "execution_count": 8,
   "metadata": {},
   "outputs": [
    {
     "name": "stdout",
     "output_type": "stream",
     "text": [
      "93 54 73\n"
     ]
    }
   ],
   "source": [
    "print(len(hfreq_words.intersection(mfreq_words)), len(hfreq_words.intersection(lfreq_words)), len(mfreq_words.intersection(lfreq_words)))"
   ]
  },
  {
   "cell_type": "code",
   "execution_count": 9,
   "metadata": {},
   "outputs": [],
   "source": [
    "uhfreq = hfreq_words - mfreq_words - lfreq_words\n",
    "umfreq = mfreq_words - lfreq_words - hfreq_words\n",
    "ulfreq = lfreq_words - hfreq_words - mfreq_words"
   ]
  },
  {
   "cell_type": "code",
   "execution_count": 10,
   "metadata": {},
   "outputs": [],
   "source": [
    "with open('rus/freq/high_freq.pkl', 'wb') as f:\n",
    "    pickle.dump(file=f, obj=uhfreq)\n",
    "    \n",
    "with open('rus/freq/medium_freq.pkl', 'wb') as f:\n",
    "    pickle.dump(file=f, obj=umfreq)\n",
    "    \n",
    "with open('rus/freq/low_freq.pkl', 'wb') as f:\n",
    "    pickle.dump(file=f, obj=ulfreq)"
   ]
  },
  {
   "cell_type": "code",
   "execution_count": 11,
   "metadata": {},
   "outputs": [],
   "source": [
    "with open('rus/freq/high_freq.pkl', 'rb') as f:\n",
    "    uhfreq = pickle.load(file=f)\n",
    "    \n",
    "with open('rus/freq/medium_freq.pkl', 'rb') as f:\n",
    "    umfreq = pickle.load(file=f)\n",
    "    \n",
    "with open('rus/freq/low_freq.pkl', 'rb') as f:\n",
    "    ulfreq = pickle.load(file=f)"
   ]
  },
  {
   "cell_type": "code",
   "execution_count": 12,
   "metadata": {},
   "outputs": [
    {
     "name": "stderr",
     "output_type": "stream",
     "text": [
      "paramiko missing, opening SSH/SCP/SFTP paths will be disabled.  `pip install paramiko` to suppress\n"
     ]
    }
   ],
   "source": [
    "import gensim\n",
    "\n",
    "from gensim.models import word2vec\n",
    "from gensim.models import KeyedVectors"
   ]
  },
  {
   "cell_type": "code",
   "execution_count": 13,
   "metadata": {},
   "outputs": [],
   "source": [
    "ozh = pd.read_csv('OZHEGOV.TXT', sep='|', encoding='cp1251')"
   ]
  },
  {
   "cell_type": "code",
   "execution_count": 14,
   "metadata": {},
   "outputs": [
    {
     "name": "stdout",
     "output_type": "stream",
     "text": [
      "38955\n"
     ]
    }
   ],
   "source": [
    "vocab = set(ozh['VOCAB'])\n",
    "print(len(vocab))"
   ]
  },
  {
   "cell_type": "code",
   "execution_count": 15,
   "metadata": {},
   "outputs": [],
   "source": [
    "w2v = gensim.models.KeyedVectors.load_word2vec_format('w2v_models/all_norm-sz500-w10-cb0-it3-min5.w2v', binary=True, unicode_errors='ignore')"
   ]
  },
  {
   "cell_type": "code",
   "execution_count": 16,
   "metadata": {},
   "outputs": [
    {
     "name": "stdout",
     "output_type": "stream",
     "text": [
      "37746 1209\n"
     ]
    }
   ],
   "source": [
    "train_words, test_words = [], []\n",
    "\n",
    "for word in vocab:\n",
    "    try:\n",
    "        emb = w2v.get_vector(word)\n",
    "        train_words.append(word)\n",
    "    except KeyError:\n",
    "        test_words.append(word)\n",
    "        \n",
    "print(len(train_words), len(test_words))"
   ]
  },
  {
   "cell_type": "code",
   "execution_count": 17,
   "metadata": {},
   "outputs": [
    {
     "name": "stdout",
     "output_type": "stream",
     "text": [
      "CPU times: user 1min 52s, sys: 31.8 ms, total: 1min 52s\n",
      "Wall time: 1min 52s\n"
     ]
    }
   ],
   "source": [
    "%%time\n",
    "\n",
    "train_wde = []   # word, definition, embedding\n",
    "test_wd = []    # word, definition\n",
    "\n",
    "for word in train_words:\n",
    "    defin = ozh[ozh['VOCAB'] == word].reset_index().iloc[0]['DEF']\n",
    "    emb = w2v.get_vector(word)\n",
    "    train_wde.append((word, defin, emb))\n",
    "    \n",
    "for word in test_words:\n",
    "    defin = ozh[ozh['VOCAB'] == word].reset_index().iloc[0]['DEF']\n",
    "    test_wd.append((word, defin))"
   ]
  },
  {
   "cell_type": "code",
   "execution_count": 18,
   "metadata": {
    "scrolled": true
   },
   "outputs": [
    {
     "name": "stdout",
     "output_type": "stream",
     "text": [
      "37746 1209\n"
     ]
    }
   ],
   "source": [
    "ozhegov_emb = pd.DataFrame(train_wde, columns=['word', 'definition', 'embedding'])\n",
    "ozhegov_no_emb = pd.DataFrame(test_wd, columns=['word', 'definition'])\n",
    "\n",
    "assert set(ozhegov_emb['word']).intersection(set(ozhegov_no_emb['word'])) == set()\n",
    "print(ozhegov_emb.shape[0], ozhegov_no_emb.shape[0])"
   ]
  },
  {
   "cell_type": "code",
   "execution_count": 19,
   "metadata": {},
   "outputs": [
    {
     "data": {
      "text/plain": [
       "False    33757\n",
       "True      3989\n",
       "Name: definition, dtype: int64"
      ]
     },
     "execution_count": 19,
     "metadata": {},
     "output_type": "execute_result"
    }
   ],
   "source": [
    "ozhegov_emb['definition'].apply(lambda x: '<=' in str(x)).value_counts()"
   ]
  },
  {
   "cell_type": "code",
   "execution_count": 20,
   "metadata": {},
   "outputs": [],
   "source": [
    "tmp = ozhegov_emb[ozhegov_emb['definition'].apply(lambda x: '<=' in str(x))]"
   ]
  },
  {
   "cell_type": "code",
   "execution_count": 21,
   "metadata": {},
   "outputs": [
    {
     "data": {
      "text/plain": [
       "'широкий и длинный овраг'"
      ]
     },
     "execution_count": 21,
     "metadata": {},
     "output_type": "execute_result"
    }
   ],
   "source": [
    "ozhegov_emb[ozhegov_emb['word'] == 'лог']['definition'].iloc[0]"
   ]
  },
  {
   "cell_type": "code",
   "execution_count": 22,
   "metadata": {},
   "outputs": [],
   "source": [
    "def find_embedding(defin):\n",
    "    if ('<=' in str(defin)) or ('==' in str(defin)):\n",
    "        word = str(defin)\n",
    "        if ((word[0] == '<') or (word[0] == '=')) and (word[1] == '='):\n",
    "            word = word[3:]\n",
    "            res = ''\n",
    "            for letter in word:\n",
    "                if letter.isalpha():\n",
    "                    res += letter\n",
    "                else:\n",
    "                    break\n",
    "            # find word\n",
    "            if (ozhegov_emb[ozhegov_emb['word'] == res].shape[0] == 1):\n",
    "                return ozhegov_emb[ozhegov_emb['word'] == res]['definition'].iloc[0]\n",
    "            elif (ozhegov_no_emb[ozhegov_no_emb['word'] == res].shape[0] == 1):\n",
    "                return ozhegov_no_emb[ozhegov_no_emb['word'] == res]['definition'].iloc[0]\n",
    "            else:\n",
    "                return str(defin)\n",
    "    return str(defin)"
   ]
  },
  {
   "cell_type": "code",
   "execution_count": 23,
   "metadata": {},
   "outputs": [],
   "source": [
    "ozhegov_emb_new = ozhegov_emb['definition'].apply(lambda x: find_embedding(x))\n",
    "ozhegov_no_emb_new = ozhegov_no_emb['definition'].apply(lambda x: find_embedding(x))"
   ]
  },
  {
   "cell_type": "code",
   "execution_count": 24,
   "metadata": {},
   "outputs": [
    {
     "data": {
      "text/plain": [
       "True     31909\n",
       "False     5837\n",
       "Name: definition, dtype: int64"
      ]
     },
     "execution_count": 24,
     "metadata": {},
     "output_type": "execute_result"
    }
   ],
   "source": [
    "(ozhegov_emb_new == ozhegov_emb['definition']).value_counts()"
   ]
  },
  {
   "cell_type": "code",
   "execution_count": 25,
   "metadata": {},
   "outputs": [],
   "source": [
    "ozhegov_emb['definition'] = ozhegov_emb_new\n",
    "ozhegov_no_emb['definition'] = ozhegov_no_emb_new"
   ]
  },
  {
   "cell_type": "code",
   "execution_count": 26,
   "metadata": {},
   "outputs": [],
   "source": [
    "ozhegov_emb = ozhegov_emb[ozhegov_emb['definition'].apply(lambda defin: len(defin) > 3)]\n",
    "ozhegov_no_emb = ozhegov_no_emb[ozhegov_no_emb['definition'].apply(lambda defin: len(defin) > 3)]"
   ]
  },
  {
   "cell_type": "code",
   "execution_count": 27,
   "metadata": {
    "scrolled": true
   },
   "outputs": [
    {
     "name": "stdout",
     "output_type": "stream",
     "text": [
      "(11577, 3) (8448, 3)\n"
     ]
    }
   ],
   "source": [
    "bert_mfreq = ozhegov_emb[ozhegov_emb.apply(lambda x: True if (x['word'] in umfreq) else False, axis = 1)]\n",
    "bert_lfreq = ozhegov_emb[ozhegov_emb.apply(lambda x: True if (x['word'] in ulfreq) else False, axis = 1)]\n",
    "\n",
    "assert set(bert_mfreq['word']).intersection(set(bert_lfreq['word'])) == set()\n",
    "print(bert_mfreq.shape, bert_lfreq.shape)"
   ]
  },
  {
   "cell_type": "code",
   "execution_count": 28,
   "metadata": {},
   "outputs": [
    {
     "name": "stderr",
     "output_type": "stream",
     "text": [
      "/home/vladimir/anaconda3/lib/python3.7/site-packages/ipykernel_launcher.py:2: SettingWithCopyWarning: \n",
      "A value is trying to be set on a copy of a slice from a DataFrame.\n",
      "Try using .loc[row_indexer,col_indexer] = value instead\n",
      "\n",
      "See the caveats in the documentation: http://pandas.pydata.org/pandas-docs/stable/indexing.html#indexing-view-versus-copy\n",
      "  \n",
      "/home/vladimir/anaconda3/lib/python3.7/site-packages/ipykernel_launcher.py:3: SettingWithCopyWarning: \n",
      "A value is trying to be set on a copy of a slice from a DataFrame.\n",
      "Try using .loc[row_indexer,col_indexer] = value instead\n",
      "\n",
      "See the caveats in the documentation: http://pandas.pydata.org/pandas-docs/stable/indexing.html#indexing-view-versus-copy\n",
      "  This is separate from the ipykernel package so we can avoid doing imports until\n"
     ]
    }
   ],
   "source": [
    "ozhegov_emb['embedding'] = ozhegov_emb['embedding'].apply(lambda x: x.tolist())\n",
    "bert_mfreq['embedding'] = bert_mfreq['embedding'].apply(lambda x: x.tolist())\n",
    "bert_lfreq['embedding'] = bert_lfreq['embedding'].apply(lambda x: x.tolist())\n",
    "\n",
    "ozhegov_emb.to_csv('rus/ozhegov/ozhegov_emb.csv', index=None)\n",
    "ozhegov_no_emb.to_csv('rus/ozhegov/ozhegov_no_emb.csv', index=None)\n",
    "\n",
    "bert_mfreq.to_csv('rus/bert/bert_mfreq.csv', index=None)\n",
    "bert_lfreq.to_csv('rus/bert/bert_lfreq.csv', index=None)\n",
    "\n",
    "bert_train = bert_mfreq[:(bert_mfreq.shape[0] * 4 // 5)]\n",
    "bert_valid = bert_mfreq[(bert_mfreq.shape[0] * 4 // 5):]\n",
    "\n",
    "bert_train.to_csv('rus/bert/bert_train.csv')\n",
    "bert_valid.to_csv('rus/bert/bert_valid.csv')"
   ]
  },
  {
   "cell_type": "code",
   "execution_count": null,
   "metadata": {},
   "outputs": [],
   "source": []
  }
 ],
 "metadata": {
  "kernelspec": {
   "display_name": "Python 3",
   "language": "python",
   "name": "python3"
  },
  "language_info": {
   "codemirror_mode": {
    "name": "ipython",
    "version": 3
   },
   "file_extension": ".py",
   "mimetype": "text/x-python",
   "name": "python",
   "nbconvert_exporter": "python",
   "pygments_lexer": "ipython3",
   "version": "3.7.2"
  }
 },
 "nbformat": 4,
 "nbformat_minor": 2
}
