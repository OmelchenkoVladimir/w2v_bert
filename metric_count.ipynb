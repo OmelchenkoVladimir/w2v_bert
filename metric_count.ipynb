{
 "cells": [
  {
   "cell_type": "code",
   "execution_count": 1,
   "metadata": {},
   "outputs": [
    {
     "name": "stderr",
     "output_type": "stream",
     "text": [
      "paramiko missing, opening SSH/SCP/SFTP paths will be disabled.  `pip install paramiko` to suppress\n"
     ]
    }
   ],
   "source": [
    "import pandas as pd\n",
    "import gensim\n",
    "\n",
    "from gensim.models import word2vec\n",
    "from gensim.models import KeyedVectors"
   ]
  },
  {
   "cell_type": "code",
   "execution_count": 2,
   "metadata": {},
   "outputs": [],
   "source": [
    "train = pd.read_csv('russe-evaluation/russe/evaluation/train.csv')\n",
    "gold_train = pd.read_csv('russe-evaluation/russe/evaluation/hj-train.csv')\n",
    "test = pd.read_csv('russe-evaluation/russe/evaluation/test.csv')"
   ]
  },
  {
   "cell_type": "code",
   "execution_count": 3,
   "metadata": {},
   "outputs": [],
   "source": [
    "hj_train = pd.read_csv('russe-evaluation/russe/evaluation/hj-train.csv')\n",
    "rt_train = pd.read_csv('russe-evaluation/russe/evaluation/rt-train.csv')\n",
    "ae_train = pd.read_csv('russe-evaluation/russe/evaluation/ae-train.csv')\n",
    "ae2_train = pd.read_csv('russe-evaluation/russe/evaluation/ae2-train.csv')"
   ]
  },
  {
   "cell_type": "code",
   "execution_count": 4,
   "metadata": {},
   "outputs": [],
   "source": [
    "hj_test = pd.read_csv('russe-evaluation/russe/evaluation/hj-test.csv')\n",
    "rt_test = pd.read_csv('russe-evaluation/russe/evaluation/rt-test.csv')\n",
    "ae_test = pd.read_csv('russe-evaluation/russe/evaluation/ae-test.csv')\n",
    "ae2_test = pd.read_csv('russe-evaluation/russe/evaluation/ae2-test.csv')"
   ]
  },
  {
   "cell_type": "code",
   "execution_count": 5,
   "metadata": {},
   "outputs": [],
   "source": [
    "stacked_words = pd.concat([hj_train['word1'], hj_train['word2'], rt_train['word1'], rt_train['word2'], ae_train['word1'], ae_train['word2'], ae2_train['word1'], ae2_train['word2'], hj_test['word1'], hj_test['word2'], rt_test['word1'], rt_test['word2'], ae_test['word1'], ae_test['word2'], ae2_test['word1'], ae2_test['word2']]).reset_index()[0]"
   ]
  },
  {
   "cell_type": "code",
   "execution_count": 6,
   "metadata": {},
   "outputs": [],
   "source": [
    "unique_words = stacked_words.unique()"
   ]
  },
  {
   "cell_type": "code",
   "execution_count": 7,
   "metadata": {},
   "outputs": [
    {
     "data": {
      "text/plain": [
       "array(['петух', 'побережье', 'тип', ..., 'колун', 'пуанты', 'морячка'],\n",
       "      dtype=object)"
      ]
     },
     "execution_count": 7,
     "metadata": {},
     "output_type": "execute_result"
    }
   ],
   "source": [
    "unique_words # 75934 слова"
   ]
  },
  {
   "cell_type": "code",
   "execution_count": 8,
   "metadata": {},
   "outputs": [],
   "source": [
    "#with open('wiki-ru-noxml.txt', 'r') as f:\n",
    "#    tmp = f.read()"
   ]
  },
  {
   "cell_type": "code",
   "execution_count": 31,
   "metadata": {},
   "outputs": [],
   "source": [
    "with open('OZHEGOV.TXT', 'r', encoding='cp1251') as f:\n",
    "    tmp = f.read()"
   ]
  },
  {
   "cell_type": "code",
   "execution_count": 29,
   "metadata": {},
   "outputs": [],
   "source": [
    "#with open('dict.txt', 'r', encoding = 'cp1251') as f:\n",
    "#    tmp = f.read()"
   ]
  },
  {
   "cell_type": "code",
   "execution_count": 35,
   "metadata": {},
   "outputs": [],
   "source": [
    "tmp = pd.read_csv('OZHEGOV.TXT', sep = '|', encoding = 'cp1251')"
   ]
  },
  {
   "cell_type": "code",
   "execution_count": 55,
   "metadata": {},
   "outputs": [],
   "source": [
    "tmp['VOCAB']\n",
    "voc = list(tmp['VOCAB'])"
   ]
  },
  {
   "cell_type": "code",
   "execution_count": 56,
   "metadata": {},
   "outputs": [],
   "source": [
    "in_v, out_v = 0, 0\n",
    "for word in unique_words:\n",
    "    if word in voc:\n",
    "        in_v += 1\n",
    "    else:\n",
    "        out_v += 1"
   ]
  },
  {
   "cell_type": "code",
   "execution_count": 57,
   "metadata": {},
   "outputs": [
    {
     "data": {
      "text/plain": [
       "15335"
      ]
     },
     "execution_count": 57,
     "metadata": {},
     "output_type": "execute_result"
    }
   ],
   "source": [
    "in_v"
   ]
  },
  {
   "cell_type": "code",
   "execution_count": 58,
   "metadata": {},
   "outputs": [
    {
     "data": {
      "text/plain": [
       "60599"
      ]
     },
     "execution_count": 58,
     "metadata": {},
     "output_type": "execute_result"
    }
   ],
   "source": [
    "out_v"
   ]
  },
  {
   "cell_type": "code",
   "execution_count": 62,
   "metadata": {},
   "outputs": [],
   "source": [
    "uw = unique_words[400:440]\n",
    "\n",
    "for word in uw:\n",
    "    print(word, word in voc)"
   ]
  },
  {
   "cell_type": "code",
   "execution_count": 78,
   "metadata": {},
   "outputs": [
    {
     "name": "stdout",
     "output_type": "stream",
     "text": [
      "машина True\n",
      "волшебник True\n",
      "бакс True\n",
      "парень True\n",
      "автомобиль True\n",
      "погост True\n",
      "подпись True\n",
      "размещение True\n",
      "вычисление True\n",
      "вода True\n",
      "турнир True\n",
      "веревка True\n",
      "тигр True\n",
      "путешествие True\n",
      "богатство True\n",
      "мини-футбол True\n",
      "раб True\n",
      "мать True\n",
      "спринт True\n",
      "королева True\n",
      "кровопролитие True\n",
      "проспект True\n",
      "валюта True\n",
      "металл True\n",
      "омар True\n",
      "наличные True\n",
      "журавль True\n",
      "курган True\n",
      "лес True\n",
      "джин True\n",
      "еда True\n",
      "инструмент True\n",
      "кошка True\n",
      "ягуар True\n",
      "кошка True\n",
      "ракетка True\n",
      "библиотека True\n",
      "год True\n",
      "йена True\n",
      "бразилия False\n",
      "сообщение True\n",
      "фрукт True\n",
      "лесопарк True\n",
      "кошачьи True\n",
      "телефон True\n",
      "доллар True\n",
      "море True\n",
      "предупреждение True\n",
      "банк True\n",
      "драгоценность True\n",
      "фонд True\n",
      "дисциплина True\n",
      "наука True\n",
      "млекопитающее True\n",
      "хищник True\n",
      "бренди True\n",
      "израиль True\n",
      "приспособление True\n",
      "восстановление True\n",
      "пища True\n",
      "звезда True\n",
      "гражданин True\n",
      "животное True\n",
      "фауна True\n",
      "профессор True\n",
      "приcпособление False\n",
      "футбол True\n",
      "полдень True\n",
      "театр True\n",
      "среда True\n",
      "кофе True\n",
      "картофель True\n",
      "радио True\n",
      "имущество True\n",
      "наводнение True\n",
      "космос True\n",
      "cознание False\n",
      "фрейд True\n",
      "одежда True\n",
      "теннис True\n",
      "секс True\n",
      "женщина True\n",
      "расследование True\n",
      "персонал True\n",
      "психиатрия True\n",
      "выплата True\n",
      "бумага True\n",
      "интернет True\n",
      "ладья True\n",
      "фильм True\n",
      "скот True\n",
      "победа True\n",
      "шкаф True\n",
      "машина True\n",
      "плита True\n",
      "злоупотребление True\n",
      "новости True\n",
      "право True\n",
      "аппаратура True\n",
      "раввин True\n",
      "луна True\n",
      "джаз True\n",
      "смерть True\n",
      "солнце True\n",
      "километр True\n",
      "авария True\n",
      "астроном True\n",
      "стакан True\n",
      "сообщение True\n",
      "автомобиль True\n",
      "поездка True\n",
      "больница True\n",
      "критик True\n",
      "металл True\n",
      "доказательство True\n",
      "монах True\n",
      "приготовление True\n",
      "прогноз True\n",
      "химия True\n",
      "театр True\n",
      "протон True\n",
      "поражение True\n",
      "познание True\n",
      "партия True\n",
      "бронирование True\n",
      "смерть True\n",
      "мужество True\n",
      "галактика True\n",
      "депрессия True\n",
      "клиника True\n",
      "масло True\n",
      "улика True\n",
      "рассвет True\n",
      "раунд True\n",
      "доктор True\n",
      "экология True\n",
      "терроризм True\n",
      "команда True\n",
      "виртуоз True\n",
      "предмет True\n",
      "оракул True\n",
      "люди True\n",
      "созвездие True\n",
      "оборудование True\n",
      "билет True\n",
      "нефть True\n",
      "секс True\n",
      "мир True\n",
      "волшебник True\n",
      "подушка True\n",
      "йель True\n",
      "курган True\n",
      "машина True\n",
      "инфраструктура True\n",
      "зоопарк True\n",
      "американец True\n",
      "вызов True\n",
      "поражение True\n",
      "парень True\n",
      "пейзаж True\n",
      "страх True\n",
      "еда True\n",
      "глупец True\n",
      "заработок True\n",
      "здоровье True\n",
      "ученый True\n",
      "снятие True\n",
      "отмывание True\n",
      "путешествие True\n",
      "вещь True\n",
      "тревога True\n",
      "жидкость True\n",
      "ссора True\n",
      "отель True\n",
      "засуха True\n",
      "химия True\n",
      "рынок True\n",
      "реликвия True\n",
      "категория True\n",
      "энергия True\n",
      "организм True\n",
      "владение True\n",
      "попкорн True\n",
      "природа True\n",
      "лесопарк True\n",
      "рынок True\n",
      "лаборатория True\n",
      "оракул True\n",
      "страхование True\n",
      "лес True\n",
      "познание True\n",
      "доктор True\n",
      "студент True\n",
      "ответственность True\n",
      "культура True\n",
      "планирование True\n",
      "срок True\n",
      "предшественник True\n",
      "петушок True\n",
      "история True\n",
      "жизнь True\n",
      "деятельность True\n",
      "приспособление True\n",
      "поверхность True\n",
      "лес True\n",
      "космос True\n",
      "урок True\n",
      "приспособление True\n",
      "лето True\n",
      "кладбище True\n",
      "процент True\n",
      "дети True\n",
      "объект True\n",
      "путешествие True\n",
      "операция True\n",
      "глаз True\n",
      "брак True\n",
      "доверие True\n",
      "звезда True\n",
      "информация True\n",
      "матч True\n",
      "доверие True\n",
      "расчет True\n",
      "поверхность True\n",
      "дурдом True\n",
      "серия True\n",
      "равенство True\n",
      "яйцо True\n",
      "вопрос True\n",
      "заключение True\n",
      "торговля True\n",
      "кризис True\n",
      "автомобиль True\n",
      "лесопарк True\n",
      "монах True\n",
      "мастер True\n",
      "информация True\n",
      "берег True\n",
      "плита True\n",
      "опера True\n",
      "производитель True\n",
      "холм True\n",
      "пейзаж True\n",
      "сезон True\n",
      "лесопарк True\n",
      "число True\n",
      "химия True\n",
      "атмосфера True\n",
      "рот True\n",
      "центр True\n",
      "потеря True\n",
      "расположение True\n",
      "драгоценность True\n",
      "выгода True\n",
      "фонд True\n",
      " оракул True\n",
      "мужчина True\n",
      "губернатор True\n",
      "отношение True\n",
      "петушок True\n",
      "критерий True\n",
      "ссора True\n",
      "сходство True\n",
      "приспособление True\n",
      "раб True\n",
      "девушка True\n",
      "новости True\n",
      "лесопарк True\n",
      "дурдом True\n",
      "медаль True\n",
      "страхование True\n",
      "вещество True\n",
      "век True\n",
      "тайна True\n",
      "артефакт True\n",
      "вода True\n",
      "мир True\n",
      "нация True\n",
      "капуста True\n",
      "архитектура True\n",
      "ассоциация True\n",
      "ягуар True\n",
      "петух True\n",
      "план True\n",
      "печь True\n",
      "мир True\n",
      "жизнь True\n",
      "известность True\n",
      "телефон True\n",
      "новости True\n",
      "проект True\n",
      "развитие True\n",
      "производство True\n",
      "усилие True\n",
      "близость True\n",
      "признание True\n",
      "огурец True\n",
      "изоляция True\n",
      "валик True\n",
      "драгоценность True\n",
      "расизм True\n",
      "отель True\n",
      "ухо True\n",
      "отрасль True\n",
      "музыка True\n",
      "индекс True\n",
      "вывод True\n",
      "отход True\n",
      "серия True\n",
      "заключенный True\n",
      "секретарь True\n",
      "берег True\n",
      "путешествие True\n",
      "перерыв True\n",
      "сбор True\n",
      "гипертония True\n",
      "аэропорт True\n",
      "маг True\n",
      "яйцо True\n",
      "волшебник True\n",
      "джексон True\n",
      "рекомендация True\n",
      "страхование True\n",
      "полет True\n",
      "мать True\n",
      "веревка True\n",
      "мир True\n",
      "группа True\n",
      "фрукт True\n",
      "поход True\n",
      "месяц True\n",
      "выгода True\n",
      "улыбка True\n"
     ]
    }
   ],
   "source": [
    "for word in hj_test['word2']:\n",
    "    print(word, word in voc)"
   ]
  },
  {
   "cell_type": "code",
   "execution_count": 68,
   "metadata": {},
   "outputs": [],
   "source": [
    "with open('wiki-ru-noxml.txt', 'r') as f:\n",
    "    wiki = f.read()"
   ]
  },
  {
   "cell_type": "code",
   "execution_count": 79,
   "metadata": {
    "collapsed": true
   },
   "outputs": [
    {
     "ename": "KeyboardInterrupt",
     "evalue": "",
     "output_type": "error",
     "traceback": [
      "\u001b[0;31m---------------------------------------------------------------------------\u001b[0m",
      "\u001b[0;31mKeyboardInterrupt\u001b[0m                         Traceback (most recent call last)",
      "\u001b[0;32m<ipython-input-79-25ca9f92a63d>\u001b[0m in \u001b[0;36m<module>\u001b[0;34m()\u001b[0m\n\u001b[1;32m      1\u001b[0m \u001b[0min_v\u001b[0m\u001b[0;34m,\u001b[0m \u001b[0mout_v\u001b[0m \u001b[0;34m=\u001b[0m \u001b[0;36m0\u001b[0m\u001b[0;34m,\u001b[0m \u001b[0;36m0\u001b[0m\u001b[0;34m\u001b[0m\u001b[0;34m\u001b[0m\u001b[0m\n\u001b[1;32m      2\u001b[0m \u001b[0;32mfor\u001b[0m \u001b[0mword\u001b[0m \u001b[0;32min\u001b[0m \u001b[0munique_words\u001b[0m\u001b[0;34m:\u001b[0m\u001b[0;34m\u001b[0m\u001b[0;34m\u001b[0m\u001b[0m\n\u001b[0;32m----> 3\u001b[0;31m     \u001b[0;32mif\u001b[0m \u001b[0mword\u001b[0m \u001b[0;32min\u001b[0m \u001b[0mwiki\u001b[0m\u001b[0;34m:\u001b[0m\u001b[0;34m\u001b[0m\u001b[0;34m\u001b[0m\u001b[0m\n\u001b[0m\u001b[1;32m      4\u001b[0m         \u001b[0min_v\u001b[0m \u001b[0;34m+=\u001b[0m \u001b[0;36m1\u001b[0m\u001b[0;34m\u001b[0m\u001b[0;34m\u001b[0m\u001b[0m\n\u001b[1;32m      5\u001b[0m     \u001b[0;32melse\u001b[0m\u001b[0;34m:\u001b[0m\u001b[0;34m\u001b[0m\u001b[0;34m\u001b[0m\u001b[0m\n",
      "\u001b[0;31mKeyboardInterrupt\u001b[0m: "
     ]
    }
   ],
   "source": [
    "in_v, out_v = 0, 0\n",
    "for word in unique_words:\n",
    "    if word in wiki:\n",
    "        in_v += 1\n",
    "    else:\n",
    "        out_v += 1"
   ]
  },
  {
   "cell_type": "code",
   "execution_count": 80,
   "metadata": {},
   "outputs": [
    {
     "data": {
      "text/plain": [
       "8923"
      ]
     },
     "execution_count": 80,
     "metadata": {},
     "output_type": "execute_result"
    }
   ],
   "source": [
    "in_v"
   ]
  },
  {
   "cell_type": "code",
   "execution_count": 81,
   "metadata": {},
   "outputs": [
    {
     "data": {
      "text/plain": [
       "412"
      ]
     },
     "execution_count": 81,
     "metadata": {},
     "output_type": "execute_result"
    }
   ],
   "source": [
    "out_v"
   ]
  },
  {
   "cell_type": "code",
   "execution_count": null,
   "metadata": {},
   "outputs": [],
   "source": []
  }
 ],
 "metadata": {
  "kernelspec": {
   "display_name": "Python 3",
   "language": "python",
   "name": "python3"
  },
  "language_info": {
   "codemirror_mode": {
    "name": "ipython",
    "version": 3
   },
   "file_extension": ".py",
   "mimetype": "text/x-python",
   "name": "python",
   "nbconvert_exporter": "python",
   "pygments_lexer": "ipython3",
   "version": "3.7.2"
  }
 },
 "nbformat": 4,
 "nbformat_minor": 2
}
